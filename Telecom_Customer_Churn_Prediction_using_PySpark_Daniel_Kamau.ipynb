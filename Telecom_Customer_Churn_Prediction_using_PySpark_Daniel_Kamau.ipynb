{
  "nbformat": 4,
  "nbformat_minor": 0,
  "metadata": {
    "colab": {
      "provenance": []
    },
    "kernelspec": {
      "name": "python3",
      "display_name": "Python 3"
    },
    "language_info": {
      "name": "python"
    }
  },
  "cells": [
    {
      "cell_type": "markdown",
      "source": [
        "**Background Information**\n",
        "\n",
        "Customer churn is a significant challenge in the telecom industry. Identifying customers who are\n",
        "likely to churn is crucial for implementing proactive measures to retain them. By leveraging PySpark,\n",
        "we can take advantage of its distributed computing capabilities to handle large volumes of data\n",
        "efficiently and build an accurate machine learning model for churn prediction.\n",
        "\n",
        "**Problem Statement**\n",
        "\n",
        "The goal of this project is to develop a machine learning model using PySpark that accurately\n",
        "predicts customer churn in a telecom company. The model should achieve a minimum accuracy of\n",
        "0.8, enabling the company to proactively identify and retain customers at risk of leaving. By\n",
        "effectively predicting churn, the company can implement targeted retention strategies, reduce\n",
        "customer attrition, and improve overall business performance.\n"
      ],
      "metadata": {
        "id": "FMAx_BGcQzcD"
      }
    },
    {
      "cell_type": "code",
      "execution_count": 1,
      "metadata": {
        "colab": {
          "base_uri": "https://localhost:8080/"
        },
        "id": "wug_7imRQptJ",
        "outputId": "4b8b1290-e8a3-4297-82f9-e096cf258f3d"
      },
      "outputs": [
        {
          "output_type": "stream",
          "name": "stdout",
          "text": [
            "Looking in indexes: https://pypi.org/simple, https://us-python.pkg.dev/colab-wheels/public/simple/\n",
            "Collecting pyspark\n",
            "  Downloading pyspark-3.4.0.tar.gz (310.8 MB)\n",
            "\u001b[2K     \u001b[90m━━━━━━━━━━━━━━━━━━━━━━━━━━━━━━━━━━━━━━━\u001b[0m \u001b[32m310.8/310.8 MB\u001b[0m \u001b[31m2.1 MB/s\u001b[0m eta \u001b[36m0:00:00\u001b[0m\n",
            "\u001b[?25h  Preparing metadata (setup.py) ... \u001b[?25l\u001b[?25hdone\n",
            "Requirement already satisfied: py4j==0.10.9.7 in /usr/local/lib/python3.10/dist-packages (from pyspark) (0.10.9.7)\n",
            "Building wheels for collected packages: pyspark\n",
            "  Building wheel for pyspark (setup.py) ... \u001b[?25l\u001b[?25hdone\n",
            "  Created wheel for pyspark: filename=pyspark-3.4.0-py2.py3-none-any.whl size=311317130 sha256=7b7dc5ae4dc2c87f1f64406e3c2e324f753f3a222f064f30a9d300f24962fdc5\n",
            "  Stored in directory: /root/.cache/pip/wheels/7b/1b/4b/3363a1d04368e7ff0d408e57ff57966fcdf00583774e761327\n",
            "Successfully built pyspark\n",
            "Installing collected packages: pyspark\n",
            "Successfully installed pyspark-3.4.0\n"
          ]
        }
      ],
      "source": [
        "#install pyspark\n",
        "!pip install pyspark"
      ]
    },
    {
      "cell_type": "code",
      "source": [
        "#Import the libraries\n",
        "from pyspark.sql.session import SparkSession\n",
        "from pyspark import SparkContext\n",
        "import os\n",
        "import urllib.request\n",
        "from pyspark.sql.functions import col\n",
        "import matplotlib.pyplot as plt\n",
        "import pyspark.sql.functions as F\n",
        "\n",
        "from pyspark.ml import Pipeline\n",
        "from pyspark.ml.classification import LogisticRegression, RandomForestClassifier, DecisionTreeClassifier\n",
        "from pyspark.ml.evaluation import BinaryClassificationEvaluator,MulticlassClassificationEvaluator\n",
        "from pyspark.ml.tuning import ParamGridBuilder, CrossValidator,TrainValidationSplit\n",
        "from pyspark.ml.feature import VectorAssembler, StringIndexer, StandardScaler, MinMaxScaler\n"
      ],
      "metadata": {
        "id": "zA3fIeeb12z6"
      },
      "execution_count": 17,
      "outputs": []
    },
    {
      "cell_type": "code",
      "source": [
        "# Create a SparkSession\n",
        "spark = SparkSession.builder.appName(\"ChurnPrediction\").getOrCreate()"
      ],
      "metadata": {
        "id": "CjADOn5R4Wch"
      },
      "execution_count": 3,
      "outputs": []
    },
    {
      "cell_type": "code",
      "source": [
        "# load dataset\n",
        "df = spark.read.csv('telecom_dataset.csv', header=True)\n",
        "df.show()"
      ],
      "metadata": {
        "colab": {
          "base_uri": "https://localhost:8080/"
        },
        "id": "nCKzsYbWOoa8",
        "outputId": "fb76d20f-16a3-4a06-8a6f-88cdbde15b56"
      },
      "execution_count": 4,
      "outputs": [
        {
          "output_type": "stream",
          "name": "stdout",
          "text": [
            "+----------+------+---+--------------+--------------+------------+-----+\n",
            "|CustomerID|Gender|Age|      Contract|MonthlyCharges|TotalCharges|Churn|\n",
            "+----------+------+---+--------------+--------------+------------+-----+\n",
            "|         1|Female| 25|Month-to-Month|          65.7|       156.5|   No|\n",
            "|         2|  Male| 37|      One Year|          89.0|      2356.8|   No|\n",
            "|         3|  Male| 52|      Two Year|         115.5|      5408.6|   No|\n",
            "|         4|Female| 30|Month-to-Month|          75.9|       129.4|  Yes|\n",
            "|         5|  Male| 45|      One Year|          98.2|      3142.0|   No|\n",
            "|         6|Female| 55|      Two Year|          99.9|      6541.5|   No|\n",
            "|         7|  Male| 32|Month-to-Month|          82.1|       267.7|  Yes|\n",
            "|         8|Female| 28|Month-to-Month|          61.5|       346.9|   No|\n",
            "|         9|  Male| 48|      One Year|         101.8|      5149.6|  Yes|\n",
            "|        10|Female| 60|      Two Year|         108.1|      6742.8|  Yes|\n",
            "|        11|  Male| 42|Month-to-Month|          78.9|       547.6|   No|\n",
            "|        12|Female| 35|      One Year|          94.7|      1950.2|   No|\n",
            "|        13|  Male| 41|      Two Year|          96.5|      4188.1|   No|\n",
            "|        14|  Male| 38|Month-to-Month|          79.1|       148.2|  Yes|\n",
            "|        15|Female| 50|      One Year|         105.5|      4759.1|  Yes|\n",
            "|        16|  Male| 47|      Two Year|         112.3|      5432.0|  Yes|\n",
            "|        17|Female| 26|Month-to-Month|          68.2|       289.1|   No|\n",
            "|        18|  Male| 33|Month-to-Month|          75.5|       462.5|  Yes|\n",
            "|        19|Female| 31|      One Year|          85.9|      1673.8|   No|\n",
            "|        20|  Male| 39|      Two Year|          97.1|      3992.4|   No|\n",
            "+----------+------+---+--------------+--------------+------------+-----+\n",
            "\n"
          ]
        }
      ]
    },
    {
      "cell_type": "code",
      "source": [
        "print((df.count(), len(df.columns)))"
      ],
      "metadata": {
        "colab": {
          "base_uri": "https://localhost:8080/"
        },
        "id": "uRMqC0DnRph0",
        "outputId": "2687aa42-8e5d-4aaf-ea0e-02354d99c65f"
      },
      "execution_count": 5,
      "outputs": [
        {
          "output_type": "stream",
          "name": "stdout",
          "text": [
            "(20, 7)\n"
          ]
        }
      ]
    },
    {
      "cell_type": "markdown",
      "source": [
        "Our dataframe has 7 columns and 20 rows"
      ],
      "metadata": {
        "id": "n5S3tydgSecF"
      }
    },
    {
      "cell_type": "code",
      "source": [
        "#Explore churn by gender\n",
        "import seaborn as sns\n",
        "\n",
        "df_churn_by_gender = df.select([\"CustomerID\", \"Gender\",\"Churn\"]).groupby([\"Churn\", \"Gender\"]).count().sort(\"Churn\").toPandas()\n",
        "\n",
        "#Plot a barplot\n",
        "sns.barplot(x='Churn', y='count', hue='Gender', data=df_churn_by_gender)\n",
        "plt.title('What is the churn comparison by gender', fontsize= 16);\n",
        "plt.xlabel('Churn');\n",
        "plt.ylabel('Number of Users');"
      ],
      "metadata": {
        "colab": {
          "base_uri": "https://localhost:8080/",
          "height": 474
        },
        "id": "Fr3EGLDiSkb8",
        "outputId": "1c090d33-4c70-4971-815e-39b28e4285ed"
      },
      "execution_count": 6,
      "outputs": [
        {
          "output_type": "display_data",
          "data": {
            "text/plain": [
              "<Figure size 640x480 with 1 Axes>"
            ],
            "image/png": "[encoded data removed]"
          },
          "metadata": {}
        }
      ]
    },
    {
      "cell_type": "markdown",
      "source": [
        "**Data Preprocessing:** Perform necessary preprocessing steps on the dataset, including handling missing values, feature scaling, encoding categorical variables, and splitting the data into training and testing sets. Consider using PySpark's DataFrame API for efficient data manipulation.\n"
      ],
      "metadata": {
        "id": "RHuz77SBWUJU"
      }
    },
    {
      "cell_type": "code",
      "source": [
        "# Drop null values\n",
        "df = df.na.drop()\n",
        "\n",
        "# Verify the result\n",
        "print(\"Df has: {} rows, {} columns\".format(df.count(), len(df.columns)))"
      ],
      "metadata": {
        "colab": {
          "base_uri": "https://localhost:8080/"
        },
        "id": "-VLVzO90WS-t",
        "outputId": "c009ad94-30fe-4113-9495-39f38c77a1b7"
      },
      "execution_count": 7,
      "outputs": [
        {
          "output_type": "stream",
          "name": "stdout",
          "text": [
            "Df has: 20 rows, 7 columns\n"
          ]
        }
      ]
    },
    {
      "cell_type": "code",
      "source": [
        "#Drop duplicates\n",
        "df = df.dropDuplicates()\n",
        "\n",
        "# Verify the result\n",
        "print(\"Shape of DataFrame: {} rows, {} columns\".format(df.count(), len(df.columns)))"
      ],
      "metadata": {
        "colab": {
          "base_uri": "https://localhost:8080/"
        },
        "id": "WVDpKsgKWkAM",
        "outputId": "26092a39-a584-4163-9692-173827aadc03"
      },
      "execution_count": 8,
      "outputs": [
        {
          "output_type": "stream",
          "name": "stdout",
          "text": [
            "Shape of DataFrame: 20 rows, 7 columns\n"
          ]
        }
      ]
    },
    {
      "cell_type": "code",
      "source": [
        "# Convert some columns from string to integer type and float types\n",
        "df1 = df.withColumn(\"Age\", col(\"Age\").cast(\"integer\"))\n",
        "\n",
        "df2 = df1.withColumn(\"MonthlyCharges\", col(\"MonthlyCharges\").cast(\"float\"))\n",
        "\n",
        "df3 = df2.withColumn(\"TotalCharges\", col(\"TotalCharges\").cast(\"float\"))\n",
        "\n",
        "df3.printSchema()"
      ],
      "metadata": {
        "colab": {
          "base_uri": "https://localhost:8080/"
        },
        "id": "A5aAsT9tYaBU",
        "outputId": "59cec6e8-4a43-4d38-dc24-2674d85a44b7"
      },
      "execution_count": 9,
      "outputs": [
        {
          "output_type": "stream",
          "name": "stdout",
          "text": [
            "root\n",
            " |-- CustomerID: string (nullable = true)\n",
            " |-- Gender: string (nullable = true)\n",
            " |-- Age: integer (nullable = true)\n",
            " |-- Contract: string (nullable = true)\n",
            " |-- MonthlyCharges: float (nullable = true)\n",
            " |-- TotalCharges: float (nullable = true)\n",
            " |-- Churn: string (nullable = true)\n",
            "\n"
          ]
        }
      ]
    },
    {
      "cell_type": "markdown",
      "source": [
        "**Feature Engineering:** Create new features from the existing dataset that might be helpful for predicting churn. For example, you could calculate metrics such as call duration, average monthly spend, customer tenure, or customer satisfaction scores.\n"
      ],
      "metadata": {
        "id": "Ude8kSzAZCE8"
      }
    },
    {
      "cell_type": "code",
      "source": [
        "#Group ages by creating a new column that will categorize each age into a group\n",
        "\n",
        "grouped_df = df3.withColumn(\n",
        "    'Age_group',\n",
        "    F.when((F.col('Age') >= 0) & (F.col('Age') < 5), '0-4')\n",
        "    .when((F.col('Age') >= 5) & (F.col('Age') < 10), '5-9')\n",
        "    .when((F.col('Age') >= 10) & (F.col('Age') < 15), '10-14')\n",
        "    .when((F.col('Age') >= 15) & (F.col('Age') < 20), '15-19')\n",
        "    .when((F.col('Age') >= 20) & (F.col('Age') < 25), '20-24')\n",
        "    .when((F.col('Age') >= 25) & (F.col('Age') < 30), '25-29')\n",
        "    .when((F.col('Age') >= 30) & (F.col('Age') < 35), '30-34')\n",
        "    .when((F.col('Age') >= 35) & (F.col('Age') < 40), '35-39')\n",
        "    .when((F.col('Age') >= 40) & (F.col('Age') < 45), '40-44')\n",
        "    .when((F.col('Age') >= 45) & (F.col('Age') < 50), '45-49')\n",
        "    .when((F.col('Age') >= 50) & (F.col('Age') < 55), '50-54')\n",
        "    .when((F.col('Age') >= 55) & (F.col('Age') < 60), '55-59')\n",
        "    .when((F.col('Age') >= 60) & (F.col('Age') < 65), '60-64')\n",
        "    .otherwise('65+')\n",
        ")\n",
        "\n",
        "grouped_df.show()"
      ],
      "metadata": {
        "colab": {
          "base_uri": "https://localhost:8080/"
        },
        "id": "6sV9YYRGZBIM",
        "outputId": "2f255139-3e42-49f0-addf-6a9f8bb4aa6e"
      },
      "execution_count": 10,
      "outputs": [
        {
          "output_type": "stream",
          "name": "stdout",
          "text": [
            "+----------+------+---+--------------+--------------+------------+-----+---------+\n",
            "|CustomerID|Gender|Age|      Contract|MonthlyCharges|TotalCharges|Churn|Age_group|\n",
            "+----------+------+---+--------------+--------------+------------+-----+---------+\n",
            "|        16|  Male| 47|      Two Year|         112.3|      5432.0|  Yes|    45-49|\n",
            "|        20|  Male| 39|      Two Year|          97.1|      3992.4|   No|    35-39|\n",
            "|        17|Female| 26|Month-to-Month|          68.2|       289.1|   No|    25-29|\n",
            "|        11|  Male| 42|Month-to-Month|          78.9|       547.6|   No|    40-44|\n",
            "|        18|  Male| 33|Month-to-Month|          75.5|       462.5|  Yes|    30-34|\n",
            "|         7|  Male| 32|Month-to-Month|          82.1|       267.7|  Yes|    30-34|\n",
            "|         4|Female| 30|Month-to-Month|          75.9|       129.4|  Yes|    30-34|\n",
            "|         8|Female| 28|Month-to-Month|          61.5|       346.9|   No|    25-29|\n",
            "|        10|Female| 60|      Two Year|         108.1|      6742.8|  Yes|    60-64|\n",
            "|        13|  Male| 41|      Two Year|          96.5|      4188.1|   No|    40-44|\n",
            "|         5|  Male| 45|      One Year|          98.2|      3142.0|   No|    45-49|\n",
            "|        15|Female| 50|      One Year|         105.5|      4759.1|  Yes|    50-54|\n",
            "|        12|Female| 35|      One Year|          94.7|      1950.2|   No|    35-39|\n",
            "|         3|  Male| 52|      Two Year|         115.5|      5408.6|   No|    50-54|\n",
            "|        14|  Male| 38|Month-to-Month|          79.1|       148.2|  Yes|    35-39|\n",
            "|         6|Female| 55|      Two Year|          99.9|      6541.5|   No|    55-59|\n",
            "|         2|  Male| 37|      One Year|          89.0|      2356.8|   No|    35-39|\n",
            "|         1|Female| 25|Month-to-Month|          65.7|       156.5|   No|    25-29|\n",
            "|         9|  Male| 48|      One Year|         101.8|      5149.6|  Yes|    45-49|\n",
            "|        19|Female| 31|      One Year|          85.9|      1673.8|   No|    30-34|\n",
            "+----------+------+---+--------------+--------------+------------+-----+---------+\n",
            "\n"
          ]
        }
      ]
    },
    {
      "cell_type": "code",
      "source": [
        "gender_indexer = StringIndexer(inputCol=\"Gender\", outputCol=\"GenderIndex\")\n",
        "contract_indexer = StringIndexer(inputCol=\"Contract\", outputCol=\"ContractIndex\")\n",
        "churn_indexer = StringIndexer(inputCol=\"Churn\", outputCol=\"label\")\n",
        "\n",
        "indexers = [gender_indexer, contract_indexer, churn_indexer]\n",
        "pipeline = Pipeline(stages=indexers)\n",
        "df5 = pipeline.fit(df3).transform(df3)\n",
        "\n",
        "\n",
        "assembler = VectorAssembler(inputCols=[\"GenderIndex\", \"Age\", \"ContractIndex\", \"MonthlyCharges\", \"TotalCharges\"], outputCol=\"features\")\n",
        "\n",
        "\n",
        "df5 = assembler.transform(df5)"
      ],
      "metadata": {
        "id": "lBR85beCq-Vb"
      },
      "execution_count": 23,
      "outputs": []
    },
    {
      "cell_type": "code",
      "source": [
        "# Split the data into training and testing sets\n",
        "train_data, test_data = df5.randomSplit([0.8, 0.2], seed=42)"
      ],
      "metadata": {
        "id": "Rt_tB3IHsZnS"
      },
      "execution_count": 14,
      "outputs": []
    },
    {
      "cell_type": "markdown",
      "source": [
        "**Model Selection and Training:**\n",
        "\n",
        "Choose an appropriate machine learning algorithm for churn\n",
        "prediction, considering the nature of the problem and the dataset characteristics. PySpark\n",
        "provides various algorithms such as logistic regression, random forests, gradient boosting,\n",
        "and support vector machines. Experiment with different models and hyperparameter\n",
        "configurations to achieve the desired accuracy of 0.8."
      ],
      "metadata": {
        "id": "X2OMlWJgsk3S"
      }
    },
    {
      "cell_type": "code",
      "source": [
        "models = [\n",
        "    RandomForestClassifier(labelCol=\"label\", featuresCol=\"features\", seed=42),\n",
        "    LogisticRegression(labelCol=\"label\", featuresCol=\"features\")\n",
        "]"
      ],
      "metadata": {
        "id": "yz2I92MOs_JT"
      },
      "execution_count": 15,
      "outputs": []
    },
    {
      "cell_type": "code",
      "source": [
        "paramGrids = [\n",
        "    ParamGridBuilder().addGrid(RandomForestClassifier.maxDepth, [5, 10]).build(),\n",
        "    ParamGridBuilder().addGrid(LogisticRegression.regParam, [0.01, 0.1]).build()\n",
        "]\n",
        "\n",
        "accuracies = []"
      ],
      "metadata": {
        "id": "S08UdLbTtG4S"
      },
      "execution_count": 16,
      "outputs": []
    },
    {
      "cell_type": "code",
      "source": [
        "# Training the models\n",
        "for i in range(len(models)):\n",
        "    model = models[i]\n",
        "    paramGrid = paramGrids[i]\n",
        "\n",
        "    evaluator = BinaryClassificationEvaluator(labelCol=\"label\")\n",
        "    tvs = TrainValidationSplit(estimator=model, estimatorParamMaps=paramGrid, evaluator=evaluator)\n",
        "\n",
        "    tvs_model = tvs.fit(train_data)\n",
        "\n",
        ""
      ],
      "metadata": {
        "id": "bOLYnzj4tW2K"
      },
      "execution_count": 19,
      "outputs": []
    },
    {
      "cell_type": "code",
      "source": [
        "lr_best = LogisticRegression(labelCol=\"label\", featuresCol=\"features\")\n",
        "lr_best.setParams(aggregationDepth=2,\n",
        "                  elasticNetParam=0.5,\n",
        "                  family=\"auto\",\n",
        "                  fitIntercept=True,\n",
        "                  maxIter=100,\n",
        "                  regParam=0.01,\n",
        "                  standardization=True,\n",
        "                  threshold=0.5,\n",
        "                  tol=1e-06)\n",
        "\n",
        "best_model = lr_best.fit(train_data)"
      ],
      "metadata": {
        "id": "8baS_T5Xziap"
      },
      "execution_count": 28,
      "outputs": []
    },
    {
      "cell_type": "code",
      "source": [
        "#Make predictions from the model\n",
        "\n",
        "predictions = tvs_model.transform(test_data)\n",
        "predictions_best = best_model.transform(test_data)"
      ],
      "metadata": {
        "id": "jimf26KquNPz"
      },
      "execution_count": 29,
      "outputs": []
    },
    {
      "cell_type": "code",
      "source": [
        "# Evaluating the model performance\n",
        "evaluator = MulticlassClassificationEvaluator(labelCol=\"label\")\n",
        "\n",
        "accuracy_lr = evaluator.evaluate(predictions, {evaluator.metricName: \"accuracy\"})\n",
        "precision_lr = evaluator.evaluate(predictions, {evaluator.metricName: \"weightedPrecision\"})\n",
        "recall_lr = evaluator.evaluate(predictions, {evaluator.metricName: \"weightedRecall\"})\n",
        "f1_lr = evaluator.evaluate(predictions, {evaluator.metricName: \"f1\"})\n",
        "\n",
        "print(\"Logistic Regression accuracy:\", accuracy_lr)\n",
        "print(\"Logistic Regression Precision:\", precision_lr)\n",
        "print(\"Logistic Regression recall:\", recall_lr)\n",
        "print(\"Logistic Regression F1-score:\", f1_lr)"
      ],
      "metadata": {
        "colab": {
          "base_uri": "https://localhost:8080/"
        },
        "id": "9k3eKMHbzFw6",
        "outputId": "e03d84e4-525b-4ed2-e094-b0409f7e13c4"
      },
      "execution_count": 32,
      "outputs": [
        {
          "output_type": "stream",
          "name": "stdout",
          "text": [
            "Logistic Regression accuracy: 0.6\n",
            "Logistic Regression Precision: 0.8\n",
            "Logistic Regression recall: 0.6000000000000001\n",
            "Logistic Regression F1-score: 0.5666666666666667\n"
          ]
        }
      ]
    },
    {
      "cell_type": "code",
      "source": [
        "\n",
        "accuracy = evaluator.evaluate(predictions)\n",
        "accuracies.append(accuracy)\n",
        "\n",
        "print(\"Model\", i+1, \"Accuracy:\", accuracy)"
      ],
      "metadata": {
        "colab": {
          "base_uri": "https://localhost:8080/"
        },
        "id": "K8T0-82CuFeS",
        "outputId": "cb389f4f-c286-414f-859b-8d6fb7717544"
      },
      "execution_count": 26,
      "outputs": [
        {
          "output_type": "stream",
          "name": "stdout",
          "text": [
            "Model 2 Accuracy: 1.0\n"
          ]
        }
      ]
    },
    {
      "cell_type": "markdown",
      "source": [
        "**Findings**\n",
        "With logistic regression we are able to meet the minimum accuracy of **0.8**, where our highest score is a **1.0** and a Precision of **0.8** against the RandomForestClassifier."
      ],
      "metadata": {
        "id": "0BPPWXho1Qoq"
      }
    }
  ]
}